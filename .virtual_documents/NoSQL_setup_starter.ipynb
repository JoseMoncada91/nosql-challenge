








# Import dependencies
from pymongo import MongoClient
from pprint import pprint
from bson import Decimal128


# Create an instance of MongoClient
mongo = MongoClient(port=27017)


# confirm that our new database was created
print(mongo.list_database_names())


# assign the uk_food database to a variable name
db = mongo['uk_food']


# review the collections in our new database
print(db.list_collection_names())


# review a document in the establishments collection
pprint(db.establishments.find_one())


# assign the collection to a variable
establishments = db['establishments']








# Create a dictionary for the new restaurant data
new_restaurant = {
    'BusinessName': 'Penang Flavours',
    'AddressLine1': '456 Greenwich Street',
    'AddressLine2': '',
    'PostCode': 'SE10 9JN',
    'RatingValue': None,
    'LocalAuthorityName': 'Greenwich',
    'Geocode': {'latitude': '51.4779', 'longitude': '0.0005'},
    'BusinessType': 'Restaurant/Cafe/Canteen'
}


# Insert the new restaurant into the collection
establishments.insert_one(new_restaurant)


# Check that the new restaurant was inserted
pprint(establishments.find_one({'BusinessName': 'Penang Flavours'}))





# Find the BusinessTypeID for "Restaurant/Cafe/Canteen" and return only the BusinessTypeID and BusinessType fields
business_type = establishments.find_one({'BusinessType': 'Restaurant/Cafe/Canteen'}, {'BusinessTypeID': 1, 'BusinessType': 1})
pprint(business_type)





# Update the new restaurant with the correct BusinessTypeID
establishments.update_one(
    {'BusinessName': 'Penang Flavours'},
    {'$set': {'BusinessTypeID': 1}}
)


# Confirm that the new restaurant was updated
pprint(establishments.find_one({'BusinessName': 'Penang Flavours'}))





# Find how many documents have LocalAuthorityName as "Dover"
dover_count = establishments.count_documents({'LocalAuthorityName': 'Dover'})
print(f"Number of establishments in Dover: {dover_count}")


# Delete all documents where LocalAuthorityName is "Dover"
establishments.delete_many({'LocalAuthorityName': 'Dover'})


# Check if any remaining documents include Dover
dover_remaining = establishments.count_documents({'LocalAuthorityName': 'Dover'})
print(f"Remaining establishments in Dover: {dover_remaining}")


# Check that other documents remain with 'find_one'
pprint(establishments.find_one())








# Change the data type from String to Decimal for longitude and latitude
from decimal import Decimal
establishments.update_many(
    {},
    [
        {'$set': {
            'Geocode.latitude': {'$toDecimal': '$Geocode.latitude'},
            'Geocode.longitude': {'$toDecimal': '$Geocode.longitude'}
        }}
    ]
)





# Set non 1-5 Rating Values to Null
non_ratings = ["AwaitingInspection", "Awaiting Inspection", "AwaitingPublication", "Pass", "Exempt"]
establishments.update_many({"RatingValue": {"$in": non_ratings}}, [ {'$set':{ "RatingValue" : None}} ])


# Change the data type from String to Integer for RatingValue
establishments.update_many(
    {'RatingValue': {'$ne': None}},
    [{'$set': {'RatingValue': {'$toInt': '$RatingValue'}}}]
)


# Check that the coordinates and rating value are now numbers
restaurant = establishments.find_one({'BusinessName': 'Penang Flavours'}, {'RatingValue': 1, 'Geocode': 1})
latitude = float(restaurant['Geocode']['latitude'].to_decimal())
longitude = float(restaurant['Geocode']['longitude'].to_decimal())
print(f"Latitude: {latitude}, Longitude: {longitude}, RatingValue: {restaurant['RatingValue']}")
