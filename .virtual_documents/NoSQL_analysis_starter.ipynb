





from pymongo import MongoClient
import pandas as pd
from pprint import pprint


# Create an instance of MongoClient
mongo = MongoClient(port=27017)


# assign the uk_food database to a variable name
db = mongo['uk_food']


# review the collections in our database
collections = db.list_collection_names()
pprint(collections)


# assign the collection to a variable
establishments = db['establishments']








# Find the establishments with a hygiene score of 20
query = {"scores.Hygiene": 20}

# Use count_documents to display the number of documents in the result
count = establishments.count_documents(query)
print(f"Number of establishments with a hygiene score of 20: {count}")
results_cursor = establishments.find(query)

# Display the first document in the results using pprint
first_result = next(results_cursor, None)  # Get the first result from the cursor
if first_result:
    pprint(first_result)


# Convert the result to a Pandas DataFrame
results_list = pd.DataFrame(list(results_cursor))  # Convert the cursor to a list

# Dsplay the number of rows in the DataFrame
print(f"Number of rows in the DataFrame: {len(results_list)}")

# Display the first 10 rows of the DataFrame
print(results_list.head(10))





# Find the establishments with London as the Local Authority and has a RatingValue greater than or equal to 4.
query = {"LocalAuthorityName": {'$regex': "London"}, "RatingValue": {'$gte': 4}}

# Use count_documents to display the number of documents in the result
count = establishments.count_documents(query)
print(f"The number of establishments in London with a RatingValue >= 4 is {count}.\n")

# Display the first document in the results using pprint
results_cursor = establishments.find(query)

# Display the first document
first_result = next(results_cursor, None) 
if first_result:
    pprint(first_result)


# Convert the result to a Pandas DataFrame
results_list = pd.DataFrame(list(results_cursor))

# Display the number of rows in the DataFrame
print(f"The number of rows in the dataframe is {len(results_list)}.")

# Display the first 10 rows of the DataFrame
print(results_list.head(10))





from bson import Decimal128

# Search within 0.01 degree on either side of the latitude and longitude.
# Rating value must equal 5
# Sort by hygiene score

degree_search = 0.01

# Fetch the location of "Penang Flavours"
penang_flavours = establishments.find_one({"BusinessName": "Penang Flavours"})

# Convert the Decimal128 to float
latitude = float(penang_flavours['Geocode']['latitude'].to_decimal())
longitude = float(penang_flavours['Geocode']['longitude'].to_decimal())

# Define the query to find establishments with RatingValue of 5 and within the 0.01 degree range
query = {
    "RatingValue": 5,
    "Geocode.latitude": {"$gte": (latitude - degree_search), "$lte": (latitude + degree_search)},
    "Geocode.longitude": {"$gte": (longitude - degree_search), "$lte": (longitude + degree_search)}
}

# Sort by the hygiene score in ascending order (lowest first)
sort = [("scores.Hygiene", 1)]

# Limit the results to top 5
limit = 5

# Print the results
results = list(establishments.find(query).sort(sort).limit(limit))

# Convert the result to Pandas DataFrame
import pandas as pd
results_df = pd.DataFrame(results)

# Display the results
results_df





# Create a pipeline that:
# 1. Matches establishments with a hygiene score of 0
# 2. Groups the matches by Local Authority
# 3. Sorts the matches from highest to lowest
pipeline = [
    {
        "$match": {
            "scores.Hygiene": 0  # Match establishments with a hygiene score of 0
        }
    },
    {
        "$group": {
            "_id": "$LocalAuthorityName",  # Group the results by Local Authority
            "count": {"$sum": 1}  # Count the number of documents for each Local Authority
        }
    },
    {
        "$sort": {"count": -1}  # Sort by count in descending order (highest to lowest)
    }
]

# Execute the aggregation pipeline
results = list(establishments.aggregate(pipeline))
# Print the number of documents in the result
print(f"The number of Local Authority areas with establishments having a hygiene score of 0: {len(results)}")
# Print the first 10 results
from pprint import pprint
pprint(results[:10])


import pandas as pd
results_df = pd.DataFrame(results)

# Display the number of rows in the DataFrame
print(f"The number of rows in the dataframe is {len(results_df)}")

# Display the first 10 rows of the DataFrame
print(results_df.head(10))



